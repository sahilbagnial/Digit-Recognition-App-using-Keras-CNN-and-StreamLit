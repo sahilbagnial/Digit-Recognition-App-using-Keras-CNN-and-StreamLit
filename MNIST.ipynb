{
 "cells": [
  {
   "cell_type": "code",
   "execution_count": 46,
   "metadata": {},
   "outputs": [],
   "source": [
    "import pandas as pd\n",
    "import numpy as np\n",
    "from matplotlib import pyplot as plt\n",
    "import os\n",
    "from tensorflow.keras.models import Sequential\n",
    "from tensorflow.keras.layers import Dense,Flatten,Conv2D,MaxPool2D,Activation,Dropout\n",
    "from tensorflow.keras.utils import to_categorical\n",
    "from sklearn.model_selection import train_test_split\n",
    "from imageio import imread\n",
    "from tqdm import tqdm\n",
    "from tensorflow.keras.models import load_model\n",
    "import tempfile\n",
    "import os"
   ]
  },
  {
   "cell_type": "code",
   "execution_count": 3,
   "metadata": {},
   "outputs": [
    {
     "name": "stderr",
     "output_type": "stream",
     "text": [
      "Processing...: 100%|████████████████████████████████████████████████████████████| 49000/49000 [03:43<00:00, 219.32it/s]\n"
     ]
    }
   ],
   "source": [
    "# Loading Training and Test Data\n",
    "train_data = pd.read_csv('train.csv')\n",
    "test_data = pd.read_csv('Test_fCbTej3_0j1gHmj.csv')\n",
    "# Converting train images into Vectors\n",
    "img_list=list()\n",
    "for img_name in tqdm(train_data.filename,desc='Processing...'):\n",
    "    # Image path\n",
    "    img_path=os.path.join('./Images/train/',img_name)\n",
    "    # Reading the image as Gray Scaled image\n",
    "    img=imread(img_path,as_gray=True)\n",
    "    img_list.append(img)\n",
    "X_train = np.stack(img_list)\n",
    "X_train/=255\n",
    "X_train=np.expand_dims(X_train,-1).astype('float32')"
   ]
  },
  {
   "cell_type": "code",
   "execution_count": 4,
   "metadata": {},
   "outputs": [
    {
     "name": "stderr",
     "output_type": "stream",
     "text": [
      "100%|███████████████████████████████████████████████████████████████████████████| 21000/21000 [01:33<00:00, 224.54it/s]\n"
     ]
    }
   ],
   "source": [
    "# Converting test images into Vectors\n",
    "img_list=list()\n",
    "for img_name in tqdm(test_data.filename):\n",
    "    # Image path\n",
    "    img_path=os.path.join('./Images/test/',img_name)\n",
    "    # Reading the image as Gray Scaled image\n",
    "    img=imread(img_path,as_gray=True)\n",
    "    img_list.append(img)\n",
    "X_test = np.stack(img_list)\n",
    "X_test/=255\n",
    "X_test=np.expand_dims(X_test,-1).astype('float32')"
   ]
  },
  {
   "cell_type": "code",
   "execution_count": 5,
   "metadata": {},
   "outputs": [
    {
     "name": "stdout",
     "output_type": "stream",
     "text": [
      "(49000, 28, 28, 1)\n",
      "(21000, 28, 28, 1)\n"
     ]
    }
   ],
   "source": [
    "print(X_train.shape)\n",
    "print(X_test.shape)"
   ]
  },
  {
   "cell_type": "code",
   "execution_count": 6,
   "metadata": {},
   "outputs": [
    {
     "name": "stdout",
     "output_type": "stream",
     "text": [
      "(49000, 10)\n"
     ]
    }
   ],
   "source": [
    "y_train=to_categorical(train_data.label,10)\n",
    "print(y_train.shape)"
   ]
  },
  {
   "cell_type": "code",
   "execution_count": 7,
   "metadata": {},
   "outputs": [
    {
     "name": "stdout",
     "output_type": "stream",
     "text": [
      "(34300, 28, 28, 1)\n",
      "(14700, 28, 28, 1)\n"
     ]
    }
   ],
   "source": [
    "X_train,X_val,y_train,y_val=train_test_split(X_train,y_train,test_size=0.3,random_state=16)\n",
    "print(X_train.shape)\n",
    "print(X_val.shape)"
   ]
  },
  {
   "cell_type": "code",
   "execution_count": 8,
   "metadata": {},
   "outputs": [
    {
     "name": "stdout",
     "output_type": "stream",
     "text": [
      "Model: \"sequential\"\n",
      "_________________________________________________________________\n",
      "Layer (type)                 Output Shape              Param #   \n",
      "=================================================================\n",
      "conv2d (Conv2D)              (None, 26, 26, 32)        320       \n",
      "_________________________________________________________________\n",
      "max_pooling2d (MaxPooling2D) (None, 13, 13, 32)        0         \n",
      "_________________________________________________________________\n",
      "dropout (Dropout)            (None, 13, 13, 32)        0         \n",
      "_________________________________________________________________\n",
      "conv2d_1 (Conv2D)            (None, 11, 11, 64)        18496     \n",
      "_________________________________________________________________\n",
      "max_pooling2d_1 (MaxPooling2 (None, 5, 5, 64)          0         \n",
      "_________________________________________________________________\n",
      "dropout_1 (Dropout)          (None, 5, 5, 64)          0         \n",
      "_________________________________________________________________\n",
      "flatten (Flatten)            (None, 1600)              0         \n",
      "_________________________________________________________________\n",
      "dense (Dense)                (None, 50)                80050     \n",
      "_________________________________________________________________\n",
      "dense_1 (Dense)              (None, 128)               6528      \n",
      "_________________________________________________________________\n",
      "dropout_2 (Dropout)          (None, 128)               0         \n",
      "_________________________________________________________________\n",
      "dense_2 (Dense)              (None, 10)                1290      \n",
      "=================================================================\n",
      "Total params: 106,684\n",
      "Trainable params: 106,684\n",
      "Non-trainable params: 0\n",
      "_________________________________________________________________\n"
     ]
    }
   ],
   "source": [
    "model=Sequential()\n",
    "model.add(Conv2D(32,kernel_size=(3,3),input_shape=(28,28,1),activation='relu'))\n",
    "model.add(MaxPool2D(pool_size=(2,2)))\n",
    "model.add(Dropout(0.25))\n",
    "model.add(Conv2D(64,kernel_size=(3,3),activation='relu'))\n",
    "model.add(MaxPool2D(pool_size=(2,2)))\n",
    "model.add(Dropout(0.25))\n",
    "model.add(Flatten())\n",
    "model.add(Dense(50,activation='relu'))\n",
    "model.add(Dense(128,activation='relu'))\n",
    "model.add(Dropout(0.5))\n",
    "model.add(Dense(10,activation='softmax'))\n",
    "model.summary()"
   ]
  },
  {
   "cell_type": "code",
   "execution_count": 9,
   "metadata": {
    "scrolled": false
   },
   "outputs": [
    {
     "name": "stdout",
     "output_type": "stream",
     "text": [
      "Epoch 1/50\n",
      "268/268 [==============================] - 2s 9ms/step - loss: 0.5850 - accuracy: 0.8114 - val_loss: 0.1268 - val_accuracy: 0.9612\n",
      "Epoch 2/50\n",
      "268/268 [==============================] - 2s 8ms/step - loss: 0.1518 - accuracy: 0.9553 - val_loss: 0.0797 - val_accuracy: 0.9761\n",
      "Epoch 3/50\n",
      "268/268 [==============================] - 2s 8ms/step - loss: 0.1067 - accuracy: 0.9689 - val_loss: 0.0645 - val_accuracy: 0.9798\n",
      "Epoch 4/50\n",
      "268/268 [==============================] - 2s 8ms/step - loss: 0.0865 - accuracy: 0.9747 - val_loss: 0.0539 - val_accuracy: 0.9826\n",
      "Epoch 5/50\n",
      "268/268 [==============================] - 2s 8ms/step - loss: 0.0735 - accuracy: 0.9777 - val_loss: 0.0460 - val_accuracy: 0.9859\n",
      "Epoch 6/50\n",
      "268/268 [==============================] - 2s 8ms/step - loss: 0.0648 - accuracy: 0.9814 - val_loss: 0.0463 - val_accuracy: 0.9863\n",
      "Epoch 7/50\n",
      "268/268 [==============================] - 2s 8ms/step - loss: 0.0567 - accuracy: 0.9826 - val_loss: 0.0477 - val_accuracy: 0.9857\n",
      "Epoch 8/50\n",
      "268/268 [==============================] - 2s 8ms/step - loss: 0.0537 - accuracy: 0.9841 - val_loss: 0.0389 - val_accuracy: 0.9883\n",
      "Epoch 9/50\n",
      "268/268 [==============================] - 2s 8ms/step - loss: 0.0457 - accuracy: 0.9863 - val_loss: 0.0379 - val_accuracy: 0.9878\n",
      "Epoch 10/50\n",
      "268/268 [==============================] - 2s 8ms/step - loss: 0.0433 - accuracy: 0.9868 - val_loss: 0.0415 - val_accuracy: 0.9878\n",
      "Epoch 11/50\n",
      "268/268 [==============================] - 2s 8ms/step - loss: 0.0373 - accuracy: 0.9888 - val_loss: 0.0388 - val_accuracy: 0.9892\n",
      "Epoch 12/50\n",
      "268/268 [==============================] - 2s 8ms/step - loss: 0.0376 - accuracy: 0.9893 - val_loss: 0.0380 - val_accuracy: 0.9888\n",
      "Epoch 13/50\n",
      "268/268 [==============================] - 2s 8ms/step - loss: 0.0334 - accuracy: 0.9898 - val_loss: 0.0332 - val_accuracy: 0.9894\n",
      "Epoch 14/50\n",
      "268/268 [==============================] - 2s 8ms/step - loss: 0.0332 - accuracy: 0.9898 - val_loss: 0.0385 - val_accuracy: 0.9882\n",
      "Epoch 15/50\n",
      "268/268 [==============================] - 2s 8ms/step - loss: 0.0275 - accuracy: 0.9915 - val_loss: 0.0350 - val_accuracy: 0.9903\n",
      "Epoch 16/50\n",
      "268/268 [==============================] - 2s 8ms/step - loss: 0.0262 - accuracy: 0.9921 - val_loss: 0.0375 - val_accuracy: 0.9897\n",
      "Epoch 17/50\n",
      "268/268 [==============================] - 2s 8ms/step - loss: 0.0256 - accuracy: 0.9923 - val_loss: 0.0387 - val_accuracy: 0.9903\n",
      "Epoch 18/50\n",
      "268/268 [==============================] - 2s 8ms/step - loss: 0.0239 - accuracy: 0.9927 - val_loss: 0.0335 - val_accuracy: 0.9899\n",
      "Epoch 19/50\n",
      "268/268 [==============================] - 2s 9ms/step - loss: 0.0241 - accuracy: 0.9924 - val_loss: 0.0335 - val_accuracy: 0.9905\n",
      "Epoch 20/50\n",
      "268/268 [==============================] - 2s 8ms/step - loss: 0.0221 - accuracy: 0.9930 - val_loss: 0.0356 - val_accuracy: 0.9913\n",
      "Epoch 21/50\n",
      "268/268 [==============================] - 2s 9ms/step - loss: 0.0200 - accuracy: 0.9937 - val_loss: 0.0386 - val_accuracy: 0.9901\n",
      "Epoch 22/50\n",
      "268/268 [==============================] - 2s 8ms/step - loss: 0.0201 - accuracy: 0.9939 - val_loss: 0.0391 - val_accuracy: 0.9895\n",
      "Epoch 23/50\n",
      "268/268 [==============================] - 2s 8ms/step - loss: 0.0187 - accuracy: 0.9943 - val_loss: 0.0368 - val_accuracy: 0.9905\n",
      "Epoch 24/50\n",
      "268/268 [==============================] - 2s 8ms/step - loss: 0.0192 - accuracy: 0.9937 - val_loss: 0.0380 - val_accuracy: 0.9902\n",
      "Epoch 25/50\n",
      "268/268 [==============================] - 2s 8ms/step - loss: 0.0184 - accuracy: 0.9939 - val_loss: 0.0334 - val_accuracy: 0.9905\n",
      "Epoch 26/50\n",
      "268/268 [==============================] - 2s 8ms/step - loss: 0.0179 - accuracy: 0.9946 - val_loss: 0.0339 - val_accuracy: 0.9905\n",
      "Epoch 27/50\n",
      "268/268 [==============================] - 2s 8ms/step - loss: 0.0152 - accuracy: 0.9949 - val_loss: 0.0401 - val_accuracy: 0.9895\n",
      "Epoch 28/50\n",
      "268/268 [==============================] - 2s 8ms/step - loss: 0.0159 - accuracy: 0.9951 - val_loss: 0.0387 - val_accuracy: 0.9904\n",
      "Epoch 29/50\n",
      "268/268 [==============================] - 2s 9ms/step - loss: 0.0159 - accuracy: 0.9946 - val_loss: 0.0380 - val_accuracy: 0.9897\n",
      "Epoch 30/50\n",
      "268/268 [==============================] - 2s 8ms/step - loss: 0.0164 - accuracy: 0.9946 - val_loss: 0.0379 - val_accuracy: 0.9904\n",
      "Epoch 31/50\n",
      "268/268 [==============================] - 2s 8ms/step - loss: 0.0150 - accuracy: 0.9953 - val_loss: 0.0360 - val_accuracy: 0.9911\n",
      "Epoch 32/50\n",
      "268/268 [==============================] - 2s 8ms/step - loss: 0.0128 - accuracy: 0.9961 - val_loss: 0.0352 - val_accuracy: 0.9911\n",
      "Epoch 33/50\n",
      "268/268 [==============================] - 2s 8ms/step - loss: 0.0132 - accuracy: 0.9958 - val_loss: 0.0381 - val_accuracy: 0.9900\n",
      "Epoch 34/50\n",
      "268/268 [==============================] - 2s 8ms/step - loss: 0.0111 - accuracy: 0.9965 - val_loss: 0.0411 - val_accuracy: 0.9903\n",
      "Epoch 35/50\n",
      "268/268 [==============================] - 2s 9ms/step - loss: 0.0127 - accuracy: 0.9957 - val_loss: 0.0382 - val_accuracy: 0.9909\n",
      "Epoch 36/50\n",
      "268/268 [==============================] - 2s 9ms/step - loss: 0.0110 - accuracy: 0.9964 - val_loss: 0.0394 - val_accuracy: 0.9905\n",
      "Epoch 37/50\n",
      "268/268 [==============================] - 2s 8ms/step - loss: 0.0129 - accuracy: 0.9957 - val_loss: 0.0400 - val_accuracy: 0.9910\n",
      "Epoch 38/50\n",
      "268/268 [==============================] - 2s 9ms/step - loss: 0.0113 - accuracy: 0.9963 - val_loss: 0.0396 - val_accuracy: 0.9907\n",
      "Epoch 39/50\n",
      "268/268 [==============================] - 2s 8ms/step - loss: 0.0132 - accuracy: 0.9956 - val_loss: 0.0342 - val_accuracy: 0.9913\n",
      "Epoch 40/50\n",
      "268/268 [==============================] - 2s 8ms/step - loss: 0.0097 - accuracy: 0.9967 - val_loss: 0.0382 - val_accuracy: 0.9910\n",
      "Epoch 41/50\n",
      "268/268 [==============================] - 2s 9ms/step - loss: 0.0109 - accuracy: 0.9966 - val_loss: 0.0381 - val_accuracy: 0.9910\n",
      "Epoch 42/50\n",
      "268/268 [==============================] - 2s 8ms/step - loss: 0.0102 - accuracy: 0.9966 - val_loss: 0.0423 - val_accuracy: 0.9906\n",
      "Epoch 43/50\n",
      "268/268 [==============================] - 2s 8ms/step - loss: 0.0109 - accuracy: 0.9964 - val_loss: 0.0424 - val_accuracy: 0.9913\n",
      "Epoch 44/50\n",
      "268/268 [==============================] - 2s 8ms/step - loss: 0.0112 - accuracy: 0.9963 - val_loss: 0.0441 - val_accuracy: 0.9907\n",
      "Epoch 45/50\n",
      "268/268 [==============================] - 2s 8ms/step - loss: 0.0111 - accuracy: 0.9965 - val_loss: 0.0431 - val_accuracy: 0.9904\n",
      "Epoch 46/50\n",
      "268/268 [==============================] - 2s 8ms/step - loss: 0.0111 - accuracy: 0.9962 - val_loss: 0.0427 - val_accuracy: 0.9902\n",
      "Epoch 47/50\n",
      "268/268 [==============================] - 2s 8ms/step - loss: 0.0096 - accuracy: 0.9970 - val_loss: 0.0388 - val_accuracy: 0.9908\n",
      "Epoch 48/50\n",
      "268/268 [==============================] - 2s 8ms/step - loss: 0.0087 - accuracy: 0.9968 - val_loss: 0.0419 - val_accuracy: 0.9911\n",
      "Epoch 49/50\n",
      "268/268 [==============================] - 2s 8ms/step - loss: 0.0095 - accuracy: 0.9967 - val_loss: 0.0364 - val_accuracy: 0.9926\n",
      "Epoch 50/50\n",
      "268/268 [==============================] - 2s 8ms/step - loss: 0.0082 - accuracy: 0.9972 - val_loss: 0.0440 - val_accuracy: 0.9910\n"
     ]
    }
   ],
   "source": [
    "model.compile(loss='categorical_crossentropy',optimizer='adam',metrics=['accuracy'])\n",
    "model_11_layer=model.fit(X_train,y_train,epochs=50,batch_size=128,validation_data=(X_val,y_val))"
   ]
  },
  {
   "cell_type": "code",
   "execution_count": 10,
   "metadata": {},
   "outputs": [
    {
     "name": "stdout",
     "output_type": "stream",
     "text": [
      "460/460 [==============================] - 1s 2ms/step - loss: 0.0440 - accuracy: 0.9910\n"
     ]
    },
    {
     "data": {
      "text/plain": [
       "[0.04400719702243805, 0.9910203814506531]"
      ]
     },
     "execution_count": 10,
     "metadata": {},
     "output_type": "execute_result"
    }
   ],
   "source": [
    "model.evaluate(X_val,y_val)"
   ]
  },
  {
   "cell_type": "code",
   "execution_count": 11,
   "metadata": {},
   "outputs": [
    {
     "name": "stdout",
     "output_type": "stream",
     "text": [
      "WARNING:tensorflow:From <ipython-input-11-54bfdd863678>:1: Sequential.predict_classes (from tensorflow.python.keras.engine.sequential) is deprecated and will be removed after 2021-01-01.\n",
      "Instructions for updating:\n",
      "Please use instead:* `np.argmax(model.predict(x), axis=-1)`,   if your model does multi-class classification   (e.g. if it uses a `softmax` last-layer activation).* `(model.predict(x) > 0.5).astype(\"int32\")`,   if your model does binary classification   (e.g. if it uses a `sigmoid` last-layer activation).\n",
      "(21000,)\n"
     ]
    }
   ],
   "source": [
    "y_pred=model.predict_classes(X_test)\n",
    "print(y_pred.shape)"
   ]
  },
  {
   "cell_type": "code",
   "execution_count": 12,
   "metadata": {
    "scrolled": true
   },
   "outputs": [
    {
     "name": "stdout",
     "output_type": "stream",
     "text": [
      "4\n"
     ]
    },
    {
     "data": {
      "text/plain": [
       "<matplotlib.image.AxesImage at 0x154c95b4070>"
      ]
     },
     "execution_count": 12,
     "metadata": {},
     "output_type": "execute_result"
    },
    {
     "data": {
      "image/png": "[encoded data removed]",
      "text/plain": [
       "<Figure size 432x288 with 1 Axes>"
      ]
     },
     "metadata": {
      "needs_background": "light"
     },
     "output_type": "display_data"
    }
   ],
   "source": [
    "print(y_pred[0])\n",
    "plt.imshow(X_test[0])"
   ]
  },
  {
   "cell_type": "code",
   "execution_count": 48,
   "metadata": {},
   "outputs": [
    {
     "name": "stdout",
     "output_type": "stream",
     "text": [
      "INFO:tensorflow:Assets written to: ./model\\assets\n"
     ]
    }
   ],
   "source": [
    "model.save('./model')"
   ]
  },
  {
   "cell_type": "code",
   "execution_count": 49,
   "metadata": {},
   "outputs": [
    {
     "name": "stdout",
     "output_type": "stream",
     "text": [
      "4\n"
     ]
    },
    {
     "data": {
      "text/plain": [
       "<matplotlib.image.AxesImage at 0x155da95b820>"
      ]
     },
     "execution_count": 49,
     "metadata": {},
     "output_type": "execute_result"
    },
    {
     "data": {
      "image/png": "[encoded data removed]",
      "text/plain": [
       "<Figure size 432x288 with 1 Axes>"
      ]
     },
     "metadata": {
      "needs_background": "light"
     },
     "output_type": "display_data"
    }
   ],
   "source": [
    "m=load_model('./model/')\n",
    "y_pred=m.predict_classes(X_test)\n",
    "print(y_pred[0])\n",
    "plt.imshow(X_test[0])"
   ]
  },
  {
   "cell_type": "code",
   "execution_count": 20,
   "metadata": {},
   "outputs": [],
   "source": [
    "sample_submission=pd.read_csv('sample_submission_npBPSZB.csv')"
   ]
  },
  {
   "cell_type": "code",
   "execution_count": 2,
   "metadata": {},
   "outputs": [
    {
     "data": {
      "text/plain": [
       "'D:\\\\STudy\\\\ML Degree\\\\Practice\\\\MNIST'"
      ]
     },
     "execution_count": 2,
     "metadata": {},
     "output_type": "execute_result"
    }
   ],
   "source": [
    "import os\n",
    "os.getcwd()"
   ]
  },
  {
   "cell_type": "code",
   "execution_count": 21,
   "metadata": {},
   "outputs": [],
   "source": [
    "sample_submission.filename = test_data.filename\n",
    "sample_submission.label = y_pred\n",
    "sample_submission.to_csv('submission.csv',index=False)"
   ]
  }
 ],
 "metadata": {
  "kernelspec": {
   "display_name": "Python 3",
   "language": "python",
   "name": "python3"
  },
  "language_info": {
   "codemirror_mode": {
    "name": "ipython",
    "version": 3
   },
   "file_extension": ".py",
   "mimetype": "text/x-python",
   "name": "python",
   "nbconvert_exporter": "python",
   "pygments_lexer": "ipython3",
   "version": "3.8.6"
  }
 },
 "nbformat": 4,
 "nbformat_minor": 4
}
